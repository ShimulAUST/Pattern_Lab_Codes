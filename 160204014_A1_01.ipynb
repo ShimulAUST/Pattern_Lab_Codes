{
 "cells": [
  {
   "cell_type": "markdown",
   "metadata": {},
   "source": [
    "\n",
    "Name:Shimul Paul\n",
    "ID: 160204014\n",
    "Section:A1\n"
   ]
  },
  {
   "cell_type": "code",
   "execution_count": 8,
   "metadata": {},
   "outputs": [],
   "source": [
    "import numpy as np\n",
    "import pandas as pd\n",
    "import matplotlib.pyplot as matplot"
   ]
  },
  {
   "cell_type": "code",
   "execution_count": 9,
   "metadata": {},
   "outputs": [],
   "source": [
    "#Read the train file\n",
    "trainData = np.loadtxt('D:/All Videos and Lectures of 4.2/Pattern Lab/Lab 2/train.txt',delimiter = ' ')\n",
    "#trainData"
   ]
  },
  {
   "cell_type": "code",
   "execution_count": 10,
   "metadata": {},
   "outputs": [],
   "source": [
    "#Read the test file\n",
    "testData = np.loadtxt('D:/All Videos and Lectures of 4.2/Pattern Lab/Lab 2/test.txt',delimiter = ' ')\n",
    "#testData"
   ]
  },
  {
   "cell_type": "code",
   "execution_count": 11,
   "metadata": {},
   "outputs": [],
   "source": [
    "#let Assume if 1 then its in class A\n",
    "classA =[]\n",
    "for a in trainData:\n",
    "    if a[2] == 1:\n",
    "        classA.append([a[0],a[1]])\n",
    "\n",
    "#classA"
   ]
  },
  {
   "cell_type": "code",
   "execution_count": 12,
   "metadata": {},
   "outputs": [],
   "source": [
    "#let Assume if 1 then its in class B\n",
    "classB =[]\n",
    "for a in trainData:\n",
    "    if a[2] == 2:\n",
    "        classB.append([a[0],a[1]])\n",
    "#classB"
   ]
  },
  {
   "cell_type": "code",
   "execution_count": 13,
   "metadata": {},
   "outputs": [],
   "source": [
    "#let separate test values and their class\n",
    "testValues =[]\n",
    "testClass =[]\n",
    "for a in testData:\n",
    "    testValues.append([a[0],a[1]])\n",
    "    testClass.append(a[2])\n",
    "#print('Values: ',testValues)\n",
    "\n",
    "#print('Classes: ',testClass)\n"
   ]
  },
  {
   "cell_type": "code",
   "execution_count": 14,
   "metadata": {},
   "outputs": [],
   "source": [
    "#convert the list to np array\n",
    "classA = np.array(classA)\n",
    "classB = np.array(classB)\n",
    "testValues = np.array(testValues)\n",
    "testClass = np.array(testClass)\n",
    "#print('testValues class type',type(testClass))"
   ]
  },
  {
   "cell_type": "code",
   "execution_count": 15,
   "metadata": {},
   "outputs": [
    {
     "data": {
      "image/png": "[encoded data removed]",
      "text/plain": [
       "<Figure size 720x360 with 1 Axes>"
      ]
     },
     "metadata": {
      "needs_background": "light"
     },
     "output_type": "display_data"
    }
   ],
   "source": [
    "fig,ax = matplot.subplots()\n",
    "ax.set_title('Ploting Training Data')\n",
    "fig.set_figheight(5)\n",
    "fig.set_figwidth(10)\n",
    "ax.scatter(classA[:,0],classA[:,1],marker='o',color='r',label='Train Class 1')\n",
    "ax.scatter(classB[:,0],classB[:,1],marker='*',color='k',label='Train Class 2')\n",
    "legend = ax.legend(loc='upper left', shadow=False, fontsize='small',labelspacing=1)\n",
    "legend.get_frame().set_facecolor('None')\n",
    "matplot.show()"
   ]
  },
  {
   "cell_type": "code",
   "execution_count": 16,
   "metadata": {},
   "outputs": [],
   "source": [
    "#mean of class a and class b\n",
    "meanClassA = np.mean(classA,axis = 0)\n",
    "meanClassB = np.mean(classB,axis = 0)"
   ]
  },
  {
   "cell_type": "code",
   "execution_count": 17,
   "metadata": {},
   "outputs": [
    {
     "name": "stdout",
     "output_type": "stream",
     "text": [
      "[1.5 0.5]\n",
      "[-1.5  2. ]\n"
     ]
    }
   ],
   "source": [
    "print(meanClassA)\n",
    "print(meanClassB)"
   ]
  },
  {
   "cell_type": "code",
   "execution_count": 18,
   "metadata": {},
   "outputs": [],
   "source": [
    "predictionClassA = [0]*len(testValues)\n",
    "predictionClassB = [0]*len(testValues)\n",
    "predictionClass = [0]*len(testValues)"
   ]
  },
  {
   "cell_type": "code",
   "execution_count": 19,
   "metadata": {},
   "outputs": [],
   "source": [
    "#create a temporary numpy array for store\n",
    "tempValueClass = np.zeros((len(testValues),3))\n",
    "#print(tempValueClass)"
   ]
  },
  {
   "cell_type": "code",
   "execution_count": 20,
   "metadata": {},
   "outputs": [],
   "source": [
    "for i in range(len(testValues)):\n",
    "    predictionClassA[i] = np.dot(np.transpose(meanClassA),testValues[i]-.5*np.dot(np.transpose(meanClassA),meanClassA))\n",
    "    predictionClassB[i] = np.dot(np.transpose(meanClassB),testValues[i]-.5*np.dot(np.transpose(meanClassB),meanClassB))\n",
    "    if(predictionClassA[i]>predictionClassB[i]):\n",
    "        tempValueClass[i][0] = testValues[i][0]\n",
    "        tempValueClass[i][1] = testValues[i][1]\n",
    "        tempValueClass[i][2] = 1\n",
    "        predictionClass[i] = 1\n",
    "    else:\n",
    "        tempValueClass[i][0] = testValues[i][0]\n",
    "        tempValueClass[i][1] = testValues[i][1]\n",
    "        tempValueClass[i][2] = 2\n",
    "        predictionClass[i] = 2\n",
    "    "
   ]
  },
  {
   "cell_type": "code",
   "execution_count": 21,
   "metadata": {},
   "outputs": [],
   "source": [
    "#let tempValueClass if 1 then its in class A\n",
    "classtestA =[]\n",
    "for a in tempValueClass:\n",
    "    if a[2] == 1:\n",
    "        classtestA.append([a[0],a[1]])\n",
    "#classA"
   ]
  },
  {
   "cell_type": "code",
   "execution_count": 22,
   "metadata": {},
   "outputs": [],
   "source": [
    "#let tempValueClass if 2 then its in class B\n",
    "classtestB =[]\n",
    "for a in tempValueClass:\n",
    "    if a[2] == 2:\n",
    "        classtestB.append([a[0],a[1]])\n",
    "\n",
    "#classB"
   ]
  },
  {
   "cell_type": "code",
   "execution_count": 23,
   "metadata": {},
   "outputs": [],
   "source": [
    "#convert the list in numpy array\n",
    "classtestA =np.array(classtestA)\n",
    "classtestB = np.array(classtestB)\n",
    "predictionClass = np.array(predictionClass)"
   ]
  },
  {
   "cell_type": "code",
   "execution_count": 24,
   "metadata": {},
   "outputs": [
    {
     "data": {
      "image/png": "[encoded data removed]",
      "text/plain": [
       "<Figure size 720x360 with 1 Axes>"
      ]
     },
     "metadata": {
      "needs_background": "light"
     },
     "output_type": "display_data"
    }
   ],
   "source": [
    "#plotting the meanclass,predicted class and training class\n",
    "fig, ax = matplot.subplots()\n",
    "fig.set_figheight(5)\n",
    "fig.set_figwidth(10)\n",
    "\n",
    "ax.scatter(classA[:,0],classA[:,1],marker='o',color='r',label='Train Class 1')\n",
    "ax.scatter(classB[:,0],classB[:,1],marker='*',color='k',label='Train Class 2')\n",
    "ax.scatter(meanClassA[0],meanClassA[1],marker='v',color='r',label='Mean Class 1')\n",
    "ax.scatter(meanClassB[0],meanClassB[1],marker='H',color='k',label='Mean Class 2')\n",
    "ax.scatter(classtestA[:,0],classtestA[:,1],marker='s',color='r',label='Test Class 1')\n",
    "ax.scatter(classtestB[:,0],classtestB[:,1],marker='s',color='k',label='Test Class 2')\n",
    "legend = ax.legend(loc='upper left', shadow=False, fontsize='small',labelspacing=0.5)\n",
    "legend.get_frame().set_facecolor('None')\n",
    "matplot.show()"
   ]
  },
  {
   "cell_type": "code",
   "execution_count": 25,
   "metadata": {},
   "outputs": [],
   "source": [
    "X=[0]*12\n",
    "Y=[0]*12\n",
    "c=0\n",
    "for x in range(-4,8,1):\n",
    "    j=-((meanClassA[0]-meanClassB[0])*x-.5*np.dot(np.transpose(meanClassA),meanClassA)+\n",
    "        .5*np.dot(np.transpose(meanClassB),meanClassB))/(meanClassA[1]-meanClassB[1])\n",
    "    X[c]=x\n",
    "    Y[c]=j\n",
    "    c+=1    \n"
   ]
  },
  {
   "cell_type": "code",
   "execution_count": 26,
   "metadata": {},
   "outputs": [
    {
     "data": {
      "image/png": "[encoded data removed]",
      "text/plain": [
       "<Figure size 720x360 with 1 Axes>"
      ]
     },
     "metadata": {
      "needs_background": "light"
     },
     "output_type": "display_data"
    }
   ],
   "source": [
    "fig, ax = matplot.subplots()\n",
    "fig.set_figheight(5)\n",
    "fig.set_figwidth(10)\n",
    "ax.plot(X,Y,\"--\",label='Decision Boundary',color=\"g\")\n",
    "ax.scatter(classA[:,0],classA[:,1],marker='o',color='r',label='Train Class 1')\n",
    "ax.scatter(classB[:,0],classB[:,1],marker='*',color='k',label='Train Class 2')\n",
    "ax.scatter(meanClassA[0],meanClassA[1],marker='v',color='r',label='Mean Class 1')\n",
    "ax.scatter(meanClassB[0],meanClassB[1],marker='H',color='k',label='Mean Class 2')\n",
    "ax.scatter(classtestA[:,0],classtestA[:,1],marker='s',color='r',label='Test Class 1')\n",
    "ax.scatter(classtestB[:,0],classtestB[:,1],marker='s',color='k',label='Test Class 2')\n",
    "legend = ax.legend(loc='upper left', shadow=False, fontsize='small',labelspacing=0.5)\n",
    "legend.get_frame().set_facecolor('None')\n",
    "matplot.show()\n"
   ]
  },
  {
   "cell_type": "code",
   "execution_count": 27,
   "metadata": {},
   "outputs": [
    {
     "name": "stdout",
     "output_type": "stream",
     "text": [
      "Accuracy =  85.71428571428571\n"
     ]
    }
   ],
   "source": [
    "accuracy = 0\n",
    "for x,y in zip(testClass,predictionClass):\n",
    "    if (x == y):\n",
    "        accuracy +=1\n",
    "accuracy = accuracy/len(testClass)*100\n",
    "print('Accuracy = ', accuracy)\n"
   ]
  },
  {
   "cell_type": "code",
   "execution_count": null,
   "metadata": {},
   "outputs": [],
   "source": []
  }
 ],
 "metadata": {
  "kernelspec": {
   "display_name": "Python 3",
   "language": "python",
   "name": "python3"
  },
  "language_info": {
   "codemirror_mode": {
    "name": "ipython",
    "version": 3
   },
   "file_extension": ".py",
   "mimetype": "text/x-python",
   "name": "python",
   "nbconvert_exporter": "python",
   "pygments_lexer": "ipython3",
   "version": "3.8.5"
  }
 },
 "nbformat": 4,
 "nbformat_minor": 4
}
