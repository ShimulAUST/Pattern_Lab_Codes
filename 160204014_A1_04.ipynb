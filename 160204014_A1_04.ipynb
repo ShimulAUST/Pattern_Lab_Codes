{
 "cells": [
  {
   "cell_type": "code",
   "execution_count": 1,
   "metadata": {},
   "outputs": [],
   "source": [
    "import numpy as np\n",
    "import pandas as pd\n",
    "import matplotlib.pyplot as plt\n",
    "import math"
   ]
  },
  {
   "cell_type": "code",
   "execution_count": 2,
   "metadata": {},
   "outputs": [
    {
     "data": {
      "image/png": "[encoded data removed]",
      "text/plain": [
       "<Figure size 720x360 with 1 Axes>"
      ]
     },
     "metadata": {
      "needs_background": "light"
     },
     "output_type": "display_data"
    }
   ],
   "source": [
    "#read the file\n",
    "traindata = pd.read_csv('D:/All Videos and Lectures of 4.2/Pattern Lab/Lab 5/train_knn.txt', sep=\",\",header=None)\n",
    "traindata=traindata.to_numpy()\n",
    "#if the class value is 1 then store it in class 1 else class 2\n",
    "class1=[[x[0],x[1]] for x in traindata if x[2]==1]\n",
    "class2=[[x[0],x[1]] for x in traindata if x[2]==2]\n",
    "class1 = np.array(class1)\n",
    "class2 = np.array(class2)\n",
    "#plot the training data\n",
    "fig, ax = plt.subplots()\n",
    "fig.set_figheight(5)\n",
    "fig.set_figwidth(10)\n",
    "ax.scatter(class1[:,0],class1[:,1],marker='o',color='k',label='Train Class 1')\n",
    "ax.scatter(class2[:,0],class2[:,1],marker='*',color='r',label='Train Class 2')\n",
    "legend = ax.legend(loc='upper left', shadow=False, fontsize='small',labelspacing=0.5)\n",
    "legend.get_frame().set_facecolor('None')\n",
    "plt.show()"
   ]
  },
  {
   "cell_type": "code",
   "execution_count": 3,
   "metadata": {},
   "outputs": [],
   "source": [
    "testdata = pd.read_csv('D:/All Videos and Lectures of 4.2/Pattern Lab/Lab 5/test_knn.txt', sep=\",\",header=None)\n",
    "testdata=testdata.to_numpy()"
   ]
  },
  {
   "cell_type": "code",
   "execution_count": 4,
   "metadata": {},
   "outputs": [
    {
     "name": "stdout",
     "output_type": "stream",
     "text": [
      "5\n",
      "[[3.0, 1], [3.0, 2], [3.1622776601683795, 1], [3.1622776601683795, 2], [3.605551275463989, 2]]\n",
      "[[0.0, 1], [1.0, 1], [1.0, 1], [1.4142135623730951, 1], [2.0, 1]]\n",
      "[[0.0, 2], [1.0, 2], [1.0, 2], [1.4142135623730951, 2], [1.4142135623730951, 2]]\n",
      "[[4.123105625617661, 1], [4.123105625617661, 2], [4.123105625617661, 2], [4.47213595499958, 1], [4.47213595499958, 2]]\n",
      "[[1.0, 2], [1.4142135623730951, 2], [2.0, 2], [2.23606797749979, 2], [2.23606797749979, 2]]\n",
      "[[1.4142135623730951, 2], [2.0, 2], [2.0, 2], [2.23606797749979, 2], [2.8284271247461903, 2]]\n",
      "[[2.23606797749979, 1], [2.8284271247461903, 1], [3.1622776601683795, 1], [3.605551275463989, 1], [4.0, 2]]\n",
      "[[1.4142135623730951, 1], [2.23606797749979, 1], [2.23606797749979, 1], [3.1622776601683795, 1], [3.605551275463989, 1]]\n",
      "[[1.0, 1], [1.4142135623730951, 1], [2.0, 1], [2.23606797749979, 1], [2.8284271247461903, 1]]\n"
     ]
    },
    {
     "data": {
      "text/plain": [
       "[[3, 7, 2],\n",
       " [7, 7, 1],\n",
       " [4, 3, 2],\n",
       " [2, 8, 2],\n",
       " [3, 5, 2],\n",
       " [1, 2, 2],\n",
       " [4, 8, 1],\n",
       " [8, 3, 1],\n",
       " [8, 4, 1]]"
      ]
     },
     "execution_count": 4,
     "metadata": {},
     "output_type": "execute_result"
    }
   ],
   "source": [
    "distances = []\n",
    "prediction_list = []\n",
    "final_dis = []\n",
    "k = int(input())\n",
    "for i in testdata:\n",
    "    predicted = 5\n",
    "    count1 = 0\n",
    "    count2 = 0\n",
    "    for j in traindata:\n",
    "        dis = math.sqrt(((i[0] - j[0]) **2) + ((i[1] - j[1]) **2))\n",
    "        distances.append([dis,j[2]])\n",
    "    distances.sort(key = lambda x: x[0])\n",
    "    for u in distances[:k]:\n",
    "        if(u[1] == 1):\n",
    "            count1 = count1 + 1\n",
    "        else:\n",
    "            count2 = count2 + 1\n",
    "    if(count1 > count2):\n",
    "        predicted = 1\n",
    "    else:\n",
    "        predicted = 2\n",
    "    \n",
    "    distances.insert(k,[i[0],i[1]])\n",
    "    print(distances[:k])\n",
    "    final_dis.append(distances[:k+1])\n",
    "    \n",
    "    prediction_list.append([i[0],i[1],predicted])\n",
    "    distances = []\n",
    "\n",
    "prediction_list"
   ]
  },
  {
   "cell_type": "code",
   "execution_count": 5,
   "metadata": {},
   "outputs": [
    {
     "data": {
      "image/png": "[encoded data removed]",
      "text/plain": [
       "<Figure size 720x360 with 1 Axes>"
      ]
     },
     "metadata": {
      "needs_background": "light"
     },
     "output_type": "display_data"
    }
   ],
   "source": [
    "class1=[[x[0],x[1]] for x in prediction_list if x[2]==1]\n",
    "class2=[[x[0],x[1]] for x in prediction_list if x[2]==2]\n",
    "class1 = np.array(class1)\n",
    "class2 = np.array(class2)\n",
    "\n",
    "f, ax = plt.subplots()\n",
    "f.set_figheight(5)\n",
    "f.set_figwidth(10)\n",
    "ax.scatter(class1[:,0],class1[:,1],marker='o',color='k',label='Test Class 1')\n",
    "ax.scatter(class2[:,0],class2[:,1],marker='*',color='r',label='Test Class 2')\n",
    "legend = ax.legend(loc='upper left', shadow=False, fontsize='small',labelspacing=0.5)\n",
    "legend.get_frame().set_facecolor('None')\n",
    "plt.show()"
   ]
  },
  {
   "cell_type": "code",
   "execution_count": 6,
   "metadata": {},
   "outputs": [
    {
     "name": "stdout",
     "output_type": "stream",
     "text": [
      "[3, 7]\n",
      "Distance  1 : 3.0 \tClass 1\n",
      "Distance  2 : 3.0 \tClass 2\n",
      "Distance  3 : 3.1622776601683795 \tClass 1\n",
      "Distance  4 : 3.1622776601683795 \tClass 2\n",
      "Distance  5 : 3.605551275463989 \tClass 2\n",
      "Predicted Class:  Class 2 \n",
      "\n",
      "[7, 7]\n",
      "Distance  1 : 0.0 \tClass 1\n",
      "Distance  2 : 1.0 \tClass 1\n",
      "Distance  3 : 1.0 \tClass 1\n",
      "Distance  4 : 1.4142135623730951 \tClass 1\n",
      "Distance  5 : 2.0 \tClass 1\n",
      "Predicted Class:  Class 1 \n",
      "\n",
      "[4, 3]\n",
      "Distance  1 : 0.0 \tClass 2\n",
      "Distance  2 : 1.0 \tClass 2\n",
      "Distance  3 : 1.0 \tClass 2\n",
      "Distance  4 : 1.4142135623730951 \tClass 2\n",
      "Distance  5 : 1.4142135623730951 \tClass 2\n",
      "Predicted Class:  Class 2 \n",
      "\n",
      "[2, 8]\n",
      "Distance  1 : 4.123105625617661 \tClass 1\n",
      "Distance  2 : 4.123105625617661 \tClass 2\n",
      "Distance  3 : 4.123105625617661 \tClass 2\n",
      "Distance  4 : 4.47213595499958 \tClass 1\n",
      "Distance  5 : 4.47213595499958 \tClass 2\n",
      "Predicted Class:  Class 2 \n",
      "\n",
      "[3, 5]\n",
      "Distance  1 : 1.0 \tClass 2\n",
      "Distance  2 : 1.4142135623730951 \tClass 2\n",
      "Distance  3 : 2.0 \tClass 2\n",
      "Distance  4 : 2.23606797749979 \tClass 2\n",
      "Distance  5 : 2.23606797749979 \tClass 2\n",
      "Predicted Class:  Class 2 \n",
      "\n",
      "[1, 2]\n",
      "Distance  1 : 1.4142135623730951 \tClass 2\n",
      "Distance  2 : 2.0 \tClass 2\n",
      "Distance  3 : 2.0 \tClass 2\n",
      "Distance  4 : 2.23606797749979 \tClass 2\n",
      "Distance  5 : 2.8284271247461903 \tClass 2\n",
      "Predicted Class:  Class 2 \n",
      "\n",
      "[4, 8]\n",
      "Distance  1 : 2.23606797749979 \tClass 1\n",
      "Distance  2 : 2.8284271247461903 \tClass 1\n",
      "Distance  3 : 3.1622776601683795 \tClass 1\n",
      "Distance  4 : 3.605551275463989 \tClass 1\n",
      "Distance  5 : 4.0 \tClass 2\n",
      "Predicted Class:  Class 1 \n",
      "\n",
      "[8, 3]\n",
      "Distance  1 : 1.4142135623730951 \tClass 1\n",
      "Distance  2 : 2.23606797749979 \tClass 1\n",
      "Distance  3 : 2.23606797749979 \tClass 1\n",
      "Distance  4 : 3.1622776601683795 \tClass 1\n",
      "Distance  5 : 3.605551275463989 \tClass 1\n",
      "Predicted Class:  Class 1 \n",
      "\n",
      "[8, 4]\n",
      "Distance  1 : 1.0 \tClass 1\n",
      "Distance  2 : 1.4142135623730951 \tClass 1\n",
      "Distance  3 : 2.0 \tClass 1\n",
      "Distance  4 : 2.23606797749979 \tClass 1\n",
      "Distance  5 : 2.8284271247461903 \tClass 1\n",
      "Predicted Class:  Class 1 \n",
      "\n"
     ]
    }
   ],
   "source": [
    "prediction = open('D:/All Videos and Lectures of 4.2/Pattern Lab/Lab 5/prediction.txt','w')\n",
    "for j in (final_dis):\n",
    "    predicted = ''\n",
    "    count1 = 0\n",
    "    count2 = 0\n",
    "    print(j[len(j)-1])\n",
    "    stest = str(j[len(j)-1])+'\\n'\n",
    "    prediction.write(stest)\n",
    "    n =1\n",
    "    for u in j[:-1]:\n",
    "        print('Distance ',n,':',u[0],'\\tClass',u[1])\n",
    "        sdis = 'Distance '+ str(n)+ ':'+ str( u[0] ) +'\\tClass'+str(u[1])+'\\n'\n",
    "        prediction.write(sdis)\n",
    "        if(u[1] == 1):\n",
    "            count1 = count1 + 1\n",
    "        else:\n",
    "            count2 = count2 + 1\n",
    "        n+=1\n",
    "    if(count1 > count2):\n",
    "        predicted = 'Class 1'\n",
    "    else:\n",
    "        predicted = 'Class 2'\n",
    "    print('Predicted Class: ',predicted,'\\n')\n",
    "    spredict = 'Predicted Class: '+str(predicted)+'\\n'\n",
    "    prediction.write(spredict)\n",
    "prediction.close()"
   ]
  },
  {
   "cell_type": "code",
   "execution_count": null,
   "metadata": {},
   "outputs": [],
   "source": []
  }
 ],
 "metadata": {
  "kernelspec": {
   "display_name": "Python 3",
   "language": "python",
   "name": "python3"
  },
  "language_info": {
   "codemirror_mode": {
    "name": "ipython",
    "version": 3
   },
   "file_extension": ".py",
   "mimetype": "text/x-python",
   "name": "python",
   "nbconvert_exporter": "python",
   "pygments_lexer": "ipython3",
   "version": "3.8.5"
  }
 },
 "nbformat": 4,
 "nbformat_minor": 4
}
